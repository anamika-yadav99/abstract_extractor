{
  "nbformat": 4,
  "nbformat_minor": 0,
  "metadata": {
    "colab": {
      "provenance": [],
      "authorship_tag": "ABX9TyPwSErsu5nvVs/ntpsb1gGg",
      "include_colab_link": true
    },
    "kernelspec": {
      "name": "python3",
      "display_name": "Python 3"
    },
    "language_info": {
      "name": "python"
    }
  },
  "cells": [
    {
      "cell_type": "markdown",
      "metadata": {
        "id": "view-in-github",
        "colab_type": "text"
      },
      "source": [
        "<a href=\"https://colab.research.google.com/github/anamika-yadav99/abstract_extractor/blob/main/pubmed_abstract_compiler.ipynb\" target=\"_parent\"><img src=\"https://colab.research.google.com/assets/colab-badge.svg\" alt=\"Open In Colab\"/></a>"
      ]
    },
    {
      "cell_type": "code",
      "execution_count": null,
      "metadata": {
        "colab": {
          "base_uri": "https://localhost:8080/"
        },
        "id": "7kBiDMgHwjs7",
        "outputId": "7791e345-22fb-42ef-dcbd-7db8ff6b0538"
      },
      "outputs": [
        {
          "output_type": "stream",
          "name": "stdout",
          "text": [
            "Cloning into 'pubmed-abstract-compiler'...\n",
            "remote: Enumerating objects: 77, done.\u001b[K\n",
            "remote: Total 77 (delta 0), reused 0 (delta 0), pack-reused 77\u001b[K\n",
            "Receiving objects: 100% (77/77), 1.47 MiB | 4.65 MiB/s, done.\n",
            "Resolving deltas: 100% (39/39), done.\n",
            "/content/pubmed-abstract-compiler/pubmed-abstract-compiler\n",
            "abstracts.csv  extract_pubmed_abstracts.ipynb  partial_abstracts.csv  README.md\n",
            "docs\t       images\t\t\t       pubmed_extractor.py\n"
          ]
        }
      ],
      "source": [
        "!git clone https://github.com/erilu/pubmed-abstract-compiler.git\n",
        "%cd pubmed-abstract-compiler/\n",
        "%rm -rf abstracts.csv"
      ]
    },
    {
      "cell_type": "code",
      "source": [
        "!python pubmed_extractor.py\n",
        "\n",
        "import pandas as pd\n",
        "import re\n",
        "import requests\n",
        "import csv\n",
        "\n",
        "\n",
        "df = pd.read_csv('abstracts.csv')\n",
        "\n",
        "# Function to extract DOIs from a text using the regular expression\n",
        "def extract_dois(text):\n",
        "  doi_pattern = re.compile(r'\\b10\\.\\d{4,9}/[-._;()/:A-Za-z0-9]+\\b')\n",
        "  return doi_pattern.findall(str(text))\n",
        "\n",
        "def get_abstract(doi):\n",
        "    \"\"\"\n",
        "    Fetch the abstract of a paper using its DOI.\n",
        "\n",
        "    Parameters:\n",
        "    doi (str): The DOI of the paper.\n",
        "\n",
        "    Returns:\n",
        "    str: The abstract of the paper or an error message.\n",
        "    \"\"\"\n",
        "    # URL for CrossRef's API\n",
        "    url = f\"https://api.crossref.org/works/{doi}\"\n",
        "\n",
        "    # Sending a GET request to the API\n",
        "    response = requests.get(url)\n",
        "\n",
        "    # Check if the request was successful\n",
        "    if response.status_code == 200:\n",
        "        data = response.json()\n",
        "\n",
        "        # Extracting the abstract from the response\n",
        "        abstract = data.get('message', {}).get('abstract')\n",
        "\n",
        "        return abstract if abstract else \"Abstract not found.\"\n",
        "    else:\n",
        "        return\n",
        "\n",
        "# Extracting DOIs from all columns\n",
        "extracted_dois = []\n",
        "for column in df.columns:\n",
        "    column_dois = df[column].apply(extract_dois)\n",
        "    extracted_dois.extend([doi for sublist in column_dois for doi in sublist])\n",
        "\n",
        "# Removing duplicates\n",
        "dois = set(extracted_dois)\n",
        "\n",
        "abstracts = []\n",
        "for doi in dois:\n",
        "  abstract = get_abstract(doi)\n",
        "  cleaned_abstract = ' '.join(re.sub(r'<[^>]+>', '', str(abstract).replace(\"\\n\", \" \")).split())\n",
        "  abstracts.append([cleaned_abstract])\n",
        "\n",
        "with open('abstracts_list.csv', 'w', newline='') as file:\n",
        "    writer = csv.writer(file)\n",
        "    writer.writerows(abstracts)"
      ],
      "metadata": {
        "colab": {
          "base_uri": "https://localhost:8080/"
        },
        "id": "E0FgY37nyXg6",
        "outputId": "f8ba5d49-7684-4ac8-a31b-90beafc7a9c8"
      },
      "execution_count": null,
      "outputs": [
        {
          "output_type": "stream",
          "name": "stdout",
          "text": [
            "What would you like to download PubMed abstracts for? Enter your keyword(s):Ishaan Gupta, Indian Institute of Technology Delhi\n",
            "this is the esearch command:\n",
            "http://eutils.ncbi.nlm.nih.gov/entrez/eutils/esearch.fcgi?db=pubmed&term=Ishaan%20Gupta,%20Indian%20Institute%20of%20Technology%20Delhi&usehistory=y&rettype=json\n",
            "\n",
            "this is efetch run number 1\n",
            "http://eutils.ncbi.nlm.nih.gov/entrez/eutils/efetch.fcgi?db=pubmed&query_key=1&WebEnv=MCID_6570025e3cd03e42854620e4&retstart=0&retmax=20&retmode=text&rettype=abstract\n",
            "a total of 20 abstracts have been downloaded.\n",
            "\n",
            "this is efetch run number 2\n",
            "http://eutils.ncbi.nlm.nih.gov/entrez/eutils/efetch.fcgi?db=pubmed&query_key=1&WebEnv=MCID_6570025e3cd03e42854620e4&retstart=20&retmax=20&retmode=text&rettype=abstract\n",
            "a total of 22 abstracts have been downloaded.\n",
            "\n",
            "{'10.1038/s41598-023-43344-y', '10.1093/jxb/eraa536', '10.1128/mra.01121-22', '10.3390/cancers14246171', '10.1186/s13063-022-06353-2', '10.1016/bs.adgen.2021.08.003', '10.1101/2023.05.23.541898', '10.1371/journal.pdig.0000020', '10.1186/s12859-023-05445-3', '10.3389/fgene.2021.714185', '10.1016/j.nbd.2020.105217', '10.3390/jpm12030489', '10.1053/j.gastro.2020.03.075', '10.1080/07391102.2022.2134927', '10.1038/s41564-023-01497-6', '10.1128/Spectrum.00008-21', '10.1242/dmm.049572', '10.4103/ijmr.ijmr_1703_21', '10.1039/d2sc03587a', '10.1007/s40142-020-00185-9', '10.1016/j.dsx.2021.102248', '10.1128/spectrum.00892-23'}\n"
          ]
        }
      ]
    },
    {
      "cell_type": "code",
      "source": [
        "from google.colab import files\n",
        "files.download('abstracts_list.csv')"
      ],
      "metadata": {
        "colab": {
          "base_uri": "https://localhost:8080/",
          "height": 17
        },
        "id": "ahxsqTvmrYwJ",
        "outputId": "6f365dcb-7d8b-42d2-cb99-14e3dc5911b7"
      },
      "execution_count": null,
      "outputs": [
        {
          "output_type": "display_data",
          "data": {
            "text/plain": [
              "<IPython.core.display.Javascript object>"
            ],
            "application/javascript": [
              "\n",
              "    async function download(id, filename, size) {\n",
              "      if (!google.colab.kernel.accessAllowed) {\n",
              "        return;\n",
              "      }\n",
              "      const div = document.createElement('div');\n",
              "      const label = document.createElement('label');\n",
              "      label.textContent = `Downloading \"${filename}\": `;\n",
              "      div.appendChild(label);\n",
              "      const progress = document.createElement('progress');\n",
              "      progress.max = size;\n",
              "      div.appendChild(progress);\n",
              "      document.body.appendChild(div);\n",
              "\n",
              "      const buffers = [];\n",
              "      let downloaded = 0;\n",
              "\n",
              "      const channel = await google.colab.kernel.comms.open(id);\n",
              "      // Send a message to notify the kernel that we're ready.\n",
              "      channel.send({})\n",
              "\n",
              "      for await (const message of channel.messages) {\n",
              "        // Send a message to notify the kernel that we're ready.\n",
              "        channel.send({})\n",
              "        if (message.buffers) {\n",
              "          for (const buffer of message.buffers) {\n",
              "            buffers.push(buffer);\n",
              "            downloaded += buffer.byteLength;\n",
              "            progress.value = downloaded;\n",
              "          }\n",
              "        }\n",
              "      }\n",
              "      const blob = new Blob(buffers, {type: 'application/binary'});\n",
              "      const a = document.createElement('a');\n",
              "      a.href = window.URL.createObjectURL(blob);\n",
              "      a.download = filename;\n",
              "      div.appendChild(a);\n",
              "      a.click();\n",
              "      div.remove();\n",
              "    }\n",
              "  "
            ]
          },
          "metadata": {}
        },
        {
          "output_type": "display_data",
          "data": {
            "text/plain": [
              "<IPython.core.display.Javascript object>"
            ],
            "application/javascript": [
              "download(\"download_61b75f0e-24db-43a0-8c14-b0de9f4b6c22\", \"abstracts_list.csv\", 19447)"
            ]
          },
          "metadata": {}
        }
      ]
    }
  ]
}